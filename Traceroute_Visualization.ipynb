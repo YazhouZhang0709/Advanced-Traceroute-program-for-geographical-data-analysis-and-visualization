{
 "cells": [
  {
   "cell_type": "code",
   "execution_count": 1,
   "metadata": {
    "collapsed": true
   },
   "outputs": [],
   "source": [
    "import time\n",
    "import socket\n",
    "import struct"
   ]
  },
  {
   "cell_type": "markdown",
   "metadata": {},
   "source": [
    "### Read file of IPs and puts them into a python list"
   ]
  },
  {
   "cell_type": "code",
   "execution_count": 2,
   "metadata": {},
   "outputs": [
    {
     "name": "stdout",
     "output_type": "stream",
     "text": [
      "The following IP addresses will be tested:\n",
      "www.google.com\n",
      "www.amazon.com\n",
      "\n",
      "\n"
     ]
    }
   ],
   "source": [
    "targets = open(\"targets2.txt\")\n",
    "ip_list = targets.read().splitlines()\n",
    "print(\"The following IP addresses will be tested:\")\n",
    "\n",
    "for x in ip_list:\n",
    "    print(x)\n",
    "print(\"\\n\")"
   ]
  },
  {
   "cell_type": "markdown",
   "metadata": {},
   "source": [
    "### Creates a UDP and ICMP socket over the default address family"
   ]
  },
  {
   "cell_type": "code",
   "execution_count": 3,
   "metadata": {},
   "outputs": [
    {
     "name": "stdout",
     "output_type": "stream",
     "text": [
      "<socket._socketobject object at 0x7f95205cbb40>\n"
     ]
    },
    {
     "ename": "error",
     "evalue": "[Errno 1] Operation not permitted",
     "output_type": "error",
     "traceback": [
      "\u001b[0;31m---------------------------------------------------------------------------\u001b[0m",
      "\u001b[0;31merror\u001b[0m                                     Traceback (most recent call last)",
      "\u001b[0;32m<ipython-input-3-1a204a181621>\u001b[0m in \u001b[0;36m<module>\u001b[0;34m()\u001b[0m\n\u001b[1;32m      4\u001b[0m \u001b[0;31m#creates a ICMP socket over the default address family\u001b[0m\u001b[0;34m\u001b[0m\u001b[0;34m\u001b[0m\u001b[0m\n\u001b[1;32m      5\u001b[0m \u001b[0micmp\u001b[0m \u001b[0;34m=\u001b[0m \u001b[0msocket\u001b[0m\u001b[0;34m.\u001b[0m\u001b[0mgetprotobyname\u001b[0m\u001b[0;34m(\u001b[0m\u001b[0;34m'icmp'\u001b[0m\u001b[0;34m)\u001b[0m\u001b[0;34m\u001b[0m\u001b[0m\n\u001b[0;32m----> 6\u001b[0;31m \u001b[0mrcv_socket\u001b[0m \u001b[0;34m=\u001b[0m \u001b[0msocket\u001b[0m\u001b[0;34m.\u001b[0m\u001b[0msocket\u001b[0m\u001b[0;34m(\u001b[0m\u001b[0msocket\u001b[0m\u001b[0;34m.\u001b[0m\u001b[0mAF_INET\u001b[0m\u001b[0;34m,\u001b[0m \u001b[0msocket\u001b[0m\u001b[0;34m.\u001b[0m\u001b[0mSOCK_RAW\u001b[0m\u001b[0;34m,\u001b[0m \u001b[0micmp\u001b[0m\u001b[0;34m)\u001b[0m\u001b[0;34m\u001b[0m\u001b[0m\n\u001b[0m\u001b[1;32m      7\u001b[0m \u001b[0;32mprint\u001b[0m\u001b[0;34m(\u001b[0m\u001b[0mudp_socket\u001b[0m\u001b[0;34m)\u001b[0m\u001b[0;34m\u001b[0m\u001b[0m\n",
      "\u001b[0;32m/home/cisa/anaconda2/envs/yazhou/lib/python2.7/socket.pyc\u001b[0m in \u001b[0;36m__init__\u001b[0;34m(self, family, type, proto, _sock)\u001b[0m\n\u001b[1;32m    189\u001b[0m     \u001b[0;32mdef\u001b[0m \u001b[0m__init__\u001b[0m\u001b[0;34m(\u001b[0m\u001b[0mself\u001b[0m\u001b[0;34m,\u001b[0m \u001b[0mfamily\u001b[0m\u001b[0;34m=\u001b[0m\u001b[0mAF_INET\u001b[0m\u001b[0;34m,\u001b[0m \u001b[0mtype\u001b[0m\u001b[0;34m=\u001b[0m\u001b[0mSOCK_STREAM\u001b[0m\u001b[0;34m,\u001b[0m \u001b[0mproto\u001b[0m\u001b[0;34m=\u001b[0m\u001b[0;36m0\u001b[0m\u001b[0;34m,\u001b[0m \u001b[0m_sock\u001b[0m\u001b[0;34m=\u001b[0m\u001b[0mNone\u001b[0m\u001b[0;34m)\u001b[0m\u001b[0;34m:\u001b[0m\u001b[0;34m\u001b[0m\u001b[0m\n\u001b[1;32m    190\u001b[0m         \u001b[0;32mif\u001b[0m \u001b[0m_sock\u001b[0m \u001b[0;32mis\u001b[0m \u001b[0mNone\u001b[0m\u001b[0;34m:\u001b[0m\u001b[0;34m\u001b[0m\u001b[0m\n\u001b[0;32m--> 191\u001b[0;31m             \u001b[0m_sock\u001b[0m \u001b[0;34m=\u001b[0m \u001b[0m_realsocket\u001b[0m\u001b[0;34m(\u001b[0m\u001b[0mfamily\u001b[0m\u001b[0;34m,\u001b[0m \u001b[0mtype\u001b[0m\u001b[0;34m,\u001b[0m \u001b[0mproto\u001b[0m\u001b[0;34m)\u001b[0m\u001b[0;34m\u001b[0m\u001b[0m\n\u001b[0m\u001b[1;32m    192\u001b[0m         \u001b[0mself\u001b[0m\u001b[0;34m.\u001b[0m\u001b[0m_sock\u001b[0m \u001b[0;34m=\u001b[0m \u001b[0m_sock\u001b[0m\u001b[0;34m\u001b[0m\u001b[0m\n\u001b[1;32m    193\u001b[0m         \u001b[0;32mfor\u001b[0m \u001b[0mmethod\u001b[0m \u001b[0;32min\u001b[0m \u001b[0m_delegate_methods\u001b[0m\u001b[0;34m:\u001b[0m\u001b[0;34m\u001b[0m\u001b[0m\n",
      "\u001b[0;31merror\u001b[0m: [Errno 1] Operation not permitted"
     ]
    }
   ],
   "source": [
    "udp = socket.getprotobyname('udp')\n",
    "udp_socket = socket.socket(socket.AF_INET, socket.SOCK_DGRAM, udp)\n",
    "print(udp_socket)\n",
    "#creates a ICMP socket over the default address family\n",
    "icmp = socket.getprotobyname('icmp')\n",
    "rcv_socket = socket.socket(socket.AF_INET, socket.SOCK_RAW, icmp)\n",
    "print(udp_socket)"
   ]
  },
  {
   "cell_type": "code",
   "execution_count": 4,
   "metadata": {},
   "outputs": [
    {
     "name": "stdout",
     "output_type": "stream",
     "text": [
      "\u0005\u0000\u0000\u0000\u0000\u0000\u0000\u0000\u0000\u0000\u0000\u0000\u0000\u0000\u0000\u0000\n"
     ]
    }
   ],
   "source": [
    "#Constant TTL and port number for each datagram sent out through the UDP socket\n",
    "ttl = 32\n",
    "port = 80\n",
    "timeout = struct.pack(\"ll\", 5, 0)\n",
    "print(timeout)"
   ]
  },
  {
   "cell_type": "markdown",
   "metadata": {},
   "source": [
    "### Loops through each IP in list"
   ]
  },
  {
   "cell_type": "code",
   "execution_count": 5,
   "metadata": {},
   "outputs": [
    {
     "name": "stdout",
     "output_type": "stream",
     "text": [
      "('Sending packet to', '216.58.219.196')\n"
     ]
    },
    {
     "ename": "NameError",
     "evalue": "name 'rcv_socket' is not defined",
     "output_type": "error",
     "traceback": [
      "\u001b[0;31m---------------------------------------------------------------------------\u001b[0m",
      "\u001b[0;31mNameError\u001b[0m                                 Traceback (most recent call last)",
      "\u001b[0;32m<ipython-input-5-b44f6714c5bf>\u001b[0m in \u001b[0;36m<module>\u001b[0;34m()\u001b[0m\n\u001b[1;32m     18\u001b[0m     \u001b[0;31m#rcv_socket.setsockopt(socket.SOL_SOCKET, socket.SO_RCVTIMEO, timeout)\u001b[0m\u001b[0;34m\u001b[0m\u001b[0;34m\u001b[0m\u001b[0m\n\u001b[1;32m     19\u001b[0m     \u001b[0;31m#rcv_socket.bind((\"\", port))\u001b[0m\u001b[0;34m\u001b[0m\u001b[0;34m\u001b[0m\u001b[0m\n\u001b[0;32m---> 20\u001b[0;31m     \u001b[0mrcv_socket\u001b[0m\u001b[0;34m.\u001b[0m\u001b[0msettimeout\u001b[0m\u001b[0;34m(\u001b[0m\u001b[0;36m10.0\u001b[0m\u001b[0;34m)\u001b[0m\u001b[0;34m\u001b[0m\u001b[0m\n\u001b[0m\u001b[1;32m     21\u001b[0m     \u001b[0;31m#Each packet gets sent a maximum of 3 times\u001b[0m\u001b[0;34m\u001b[0m\u001b[0;34m\u001b[0m\u001b[0m\n\u001b[1;32m     22\u001b[0m     \u001b[0;32mwhile\u001b[0m \u001b[0mtries\u001b[0m \u001b[0;34m<\u001b[0m \u001b[0;36m4\u001b[0m\u001b[0;34m:\u001b[0m\u001b[0;34m\u001b[0m\u001b[0m\n",
      "\u001b[0;31mNameError\u001b[0m: name 'rcv_socket' is not defined"
     ]
    }
   ],
   "source": [
    "for x in ip_list:\n",
    "    ip = socket.gethostbyname(x)\n",
    "    \n",
    "    ##message of about 1480 bytes of data##\n",
    "    message=\"\"\"\n",
    "    abcdefghijklmnopqrstuvwxyz abcdefghijklmnopqrstuvwxyz abcdefghijklmnopqrstuvwxyz\n",
    "    \"\"\"\n",
    "    \n",
    "    print(\"Sending packet to\", ip)\n",
    "    \n",
    "    #Changes TTL of datagram\n",
    "    udp_socket.setsockopt(socket.SOL_IP, socket.IP_TTL, ttl)\n",
    "    \n",
    "    #Counter of how many datagrams have been sent out(so we don't get stuck if we get an annoying IP)\n",
    "    tries = 1\n",
    "    \n",
    "    #Sets the timeout of the UDP socket to 3 seconds (to avoid an infinite loop)\n",
    "    #rcv_socket.setsockopt(socket.SOL_SOCKET, socket.SO_RCVTIMEO, timeout)\n",
    "    #rcv_socket.bind((\"\", port))\n",
    "    rcv_socket.settimeout(10.0)\n",
    "    #Each packet gets sent a maximum of 3 times\n",
    "    while tries < 4:\n",
    "        \n",
    "        #timestamp of when packet is sent\n",
    "        time_start = time.time()\n",
    "        #Sends datagram with custom TTL to current IP and constant port number\n",
    "        udp_socket.sendto(message.encode('utf-8'), (ip,port))\n",
    "        #udp_socket.bind(('0.0.0.0', 0))\n",
    "        print(\"Time start is:\" , time_start)\n",
    "        \n",
    "        try:\n",
    "            #read data from receive ICMP socket\n",
    "            rcv_socket.connect((ip, port))\n",
    "#             rcv_socket.setblocking(0)#\n",
    "            print('check!!!!!!!')\n",
    "            data, address = rcv_socket.recvfrom(4069)\n",
    "            print(address)\n",
    "            ttl += 1\n",
    "            #Timestamp of when packet received (if it is even received)\n",
    "            time_stop = time.time()\n",
    "            \n",
    "            #If the address returned matches the IP\n",
    "            if (address[0] == x):\n",
    "                \n",
    "                #parses the original header to get back the final TTL and protocol\n",
    "                final_ttl, protocol = struct.unpack(\"!xxxxxxxxBBxxxxxxxxxx\", data[28:48])\n",
    "                print(\"The number of hops to this IP is: \",ttl - int(final_ttl), \" hops\" )\n",
    "                print(\"The RTT of the packet is: \", time_stop-time_start,\" ms\")\n",
    "                \n",
    "                \"\"\"\n",
    "                parses header to get the total length of the datagram. \n",
    "                We subtract 28 bytes because 20 represent the new IP header, and 8 represent the ICMP header.\n",
    "                This leaves us with the 20 byte original header and some of the original payload\n",
    "                \"\"\"\n",
    "                icmp_length = struct.unpack(\"!xxH\", data[0:4])\n",
    "                print(\"The number of bytes from the original datagram is:\", icmp_length[0] - 28,\" bytes\\n\")\n",
    "                break\n",
    "                \n",
    "                \n",
    "        #deals with the case that no data comes into the receiving socket\n",
    "        except socket.timeout:\n",
    "            print(\"timeout\")\n",
    "            tries = tries + 1\n",
    "            if tries == 4:\n",
    "                print(\"FAILED TO CONNECT. MOVING ON TO NEXT IP\\n\")\n",
    "                \n",
    "udp_socket.close()\n",
    "rcv_socket.close()"
   ]
  },
  {
   "cell_type": "code",
   "execution_count": null,
   "metadata": {
    "collapsed": true
   },
   "outputs": [],
   "source": []
  }
 ],
 "metadata": {
  "kernelspec": {
   "display_name": "Python 2",
   "language": "python",
   "name": "python2"
  },
  "language_info": {
   "codemirror_mode": {
    "name": "ipython",
    "version": 2
   },
   "file_extension": ".py",
   "mimetype": "text/x-python",
   "name": "python",
   "nbconvert_exporter": "python",
   "pygments_lexer": "ipython2",
   "version": "2.7.13"
  }
 },
 "nbformat": 4,
 "nbformat_minor": 2
}
